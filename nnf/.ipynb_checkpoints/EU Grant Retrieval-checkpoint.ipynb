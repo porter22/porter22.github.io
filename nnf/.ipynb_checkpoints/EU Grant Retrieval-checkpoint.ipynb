{
 "cells": [
  {
   "cell_type": "code",
   "execution_count": 1,
   "metadata": {},
   "outputs": [],
   "source": [
    "import csv\n",
    "import community\n",
    "import pandas as pd\n",
    "import networkx as nx\n",
    "import math\n",
    "import matplotlib.pyplot as plt\n",
    "import pickle\n",
    "import requests\n",
    "import sys\n",
    "from bs4 import BeautifulSoup\n",
    "import re\n",
    "import os"
   ]
  },
  {
   "cell_type": "code",
   "execution_count": 2,
   "metadata": {},
   "outputs": [],
   "source": [
    "#transform resumption token into appropriate string: https://www.openarchives.org/OAI/openarchivesprotocol.html#HTTPRequestFormat\n",
    "def getGoodToken(totalstring):\n",
    "    result = totalstring.replace(' ', '%20')\n",
    "    return result;"
   ]
  },
  {
   "cell_type": "markdown",
   "metadata": {},
   "source": [
    "## Retrieving EC funded publications from OpenAire"
   ]
  },
  {
   "cell_type": "code",
   "execution_count": 13,
   "metadata": {},
   "outputs": [
    {
     "name": "stdout",
     "output_type": "stream",
     "text": [
      "272470|oaf|*%20AND%20(resulttypeid%20exact%20\"publication\"%20and%20funder%20exact%20\"EC\")|101000|5beec22045e3121cdfbc5abf|false|ECPublications\n"
     ]
    }
   ],
   "source": [
    "print getGoodToken('272470|oaf|* AND (resulttypeid exact \"publication\" and funder exact \"EC\")|101000|5beec22045e3121cdfbc5abf|false|ECPublications')"
   ]
  },
  {
   "cell_type": "code",
   "execution_count": 17,
   "metadata": {},
   "outputs": [],
   "source": [
    "#takes a request url, retrieves a soup, saves a file for that soup, returns resumption token\n",
    "def getIteration(url, session, directory):\n",
    "    resp = session.get(url)\n",
    "    soup = BeautifulSoup(resp.content, 'lxml')\n",
    "    nexttoken = soup.find(re.compile(\"^oai:resumptiontoken\"))\n",
    "    filename = directory + 'soup' + str(nexttoken['cursor']) + '.txt'\n",
    "    with open(filename, 'w') as f: \n",
    "        f.write(str(soup))\n",
    "    return getGoodToken(nexttoken.text);"
   ]
  },
  {
   "cell_type": "code",
   "execution_count": null,
   "metadata": {},
   "outputs": [],
   "source": [
    "#main loop\n",
    "session = requests.session()\n",
    "session.keep_alive = False\n",
    "#for starting from scratch\n",
    "#url = 'http://api.openaire.eu/oai_pmh?verb=ListRecords&metadataPrefix=oaf&set=ECPublications'\n",
    "#for continuing from the last resumption token\n",
    "url = 'http://api.openaire.eu/oai_pmh?verb=ListRecords&resumptionToken=272470|oaf|*%20AND%20(resulttypeid%20exact%20\"publication\"%20and%20funder%20exact%20\"EC\")|101000|5beec22045e3121cdfbc5abf|false|ECPublications'\n",
    "obtainedtoken = getIteration('./pubsoups/', url, session)\n",
    "print obtainedtoken\n",
    "for i in range(0, 280):\n",
    "    url = 'http://api.openaire.eu/oai_pmh?verb=ListRecords&resumptionToken=' + obtainedtoken\n",
    "    obtainedtoken = getIteration(url, session)\n",
    "    print obtainedtoken"
   ]
  },
  {
   "cell_type": "code",
   "execution_count": null,
   "metadata": {},
   "outputs": [],
   "source": [
    "#get the last one\n",
    "respec = requests.get('http://api.openaire.eu/oai_pmh?verb=ListRecords&resumptionToken=272470|oaf|*%20AND%20(resulttypeid%20exact%20\"publication\"%20and%20funder%20exact%20\"EC\")|272000|5beeca85bc99e50cd0f4fb35|false|ECPublications')\n",
    "soupec = BeautifulSoup(respec.content, 'lxml')\n",
    "soupec"
   ]
  },
  {
   "cell_type": "markdown",
   "metadata": {},
   "source": [
    "## Retrieving all datasets from OpenAire"
   ]
  },
  {
   "cell_type": "markdown",
   "metadata": {},
   "source": [
    "## Retrieving projects from OpenAire (semi manual)"
   ]
  },
  {
   "cell_type": "code",
   "execution_count": null,
   "metadata": {},
   "outputs": [],
   "source": [
    "#this piece has to be run MANUALLY in pieces of 10 requests, due to memory limitations\n",
    "#first uncomment initial request, set the name of the first file, run RETRIEVAL cell, save to file with cell SAVEFILE, restart kernell\n",
    "#this is initial request\n",
    "#respec = requests.get('http://api.openaire.eu/oai_pmh?verb=ListRecords&metadataPrefix=oaf&set=ECProjects')\n",
    "#this request starts from specified resumptionToken\n",
    "respec = requests.get('http://api.openaire.eu/oai_pmh?verb=ListRecords&resumptionToken=45444|oaf|*%20AND%20(oaftype%20exact%20\"project\"%20and%20funder%20exact%20\"EC\")|43000|5beec7af45e3122ba28b4ee1|false|ECProjects')\n",
    "soupec = BeautifulSoup(respec.content, 'lxml')\n",
    "soups = list()\n",
    "soups.append(soupec)\n",
    "#first file name of retrieved 10 files - number should indicate the cursor position\n",
    "f = open('soups42000.txt', 'a')\n",
    "f.write(str(soupec))\n",
    "f.close()"
   ]
  },
  {
   "cell_type": "code",
   "execution_count": null,
   "metadata": {
    "scrolled": true
   },
   "outputs": [],
   "source": [
    "#RETRIEVAL CELL\n",
    "session = requests.session()\n",
    "session.keep_alive = False\n",
    "for i in range(0, 10):\n",
    "    restoken = soups[len(soups)-1].find(re.compile(\"^oai:resumptiontoken\"))\n",
    "    print restoken\n",
    "    if 'None' not in restoken.text:\n",
    "        newtoken = getGoodToken(restoken.text)\n",
    "        #newtoken='45444|oaf|*%20AND%20(oaftype%20exact%20\"project\"%20and%20funder%20exact%20\"EC\")|16000|5beec01edc92c52bf75a1792|false|ECProjects'\n",
    "        requestring = 'http://api.openaire.eu/oai_pmh?verb=ListRecords&resumptionToken=' + newtoken\n",
    "        print requestring\n",
    "        resploop = session.get(requestring)\n",
    "        souploop = BeautifulSoup(resploop.content, 'lxml')\n",
    "        filename = 'soup' + str(restoken['cursor']) + '.txt'\n",
    "        print filename\n",
    "        f = open(filename, 'a')\n",
    "        f.write(str(souploop))\n",
    "        f.close()\n",
    "        soups.append(souploop)\n",
    "        print len(soups)\n",
    "    else:\n",
    "        print \"no restoken\""
   ]
  },
  {
   "cell_type": "code",
   "execution_count": null,
   "metadata": {},
   "outputs": [],
   "source": [
    "#SAVEFILE CELL\n",
    "f = open('soupsfifty.txt', 'a')\n",
    "f.write(str(soups))\n",
    "f.close()"
   ]
  },
  {
   "cell_type": "markdown",
   "metadata": {},
   "source": [
    "## Retrieve grantIDs with dates from saved soupfiles"
   ]
  },
  {
   "cell_type": "code",
   "execution_count": null,
   "metadata": {},
   "outputs": [],
   "source": [
    "#takes a filename with soup inside, retrives grantIDs and respective date\n",
    "def getGrantFromFile(filename):\n",
    "    grantdict = dict()\n",
    "    with open(filename) as file:  \n",
    "        #restoken = file.readlines()[-2]\n",
    "        #print restoken\n",
    "        tempstr = file.read()\n",
    "        #print tempstr\n",
    "        soup = BeautifulSoup(tempstr, 'lxml')\n",
    "        grantIDtags = soup.find_all('code')\n",
    "        for grantID in grantIDtags:\n",
    "            #print grantID\n",
    "            grantIDdate = 'not available'\n",
    "            for sibling in grantID.previous_siblings:\n",
    "                if sibling.name == 'startdate':\n",
    "                    grantIDdate = sibling.text #need to parse the date\n",
    "            for sibling in grantID.next_siblings:\n",
    "                if sibling.name == 'startdate':\n",
    "                    grantIDdate = sibling.text #need to parse the date\n",
    "            grantdict[grantID.text] = grantIDdate\n",
    "    return grantdict\n",
    "    #print len(grantdict)\n",
    "    #print grantdict"
   ]
  },
  {
   "cell_type": "code",
   "execution_count": null,
   "metadata": {},
   "outputs": [],
   "source": [
    "#test cell\n",
    "getGrantFromFile('./soups/soup1000first.txt')"
   ]
  },
  {
   "cell_type": "code",
   "execution_count": null,
   "metadata": {},
   "outputs": [],
   "source": [
    "#construct an overall dictionary where each grantID has a date or n/a\n",
    "directory = './soups/'\n",
    "totalgrantdict = dict()\n",
    "for filename in os.listdir(directory):\n",
    "    print filename\n",
    "    tempdict = getGrantFromFile(directory + filename)\n",
    "    totalgrantdict.update(tempdict)\n",
    "    print len(totalgrantdict)"
   ]
  },
  {
   "cell_type": "code",
   "execution_count": null,
   "metadata": {},
   "outputs": [],
   "source": [
    "print totalgrantdict"
   ]
  },
  {
   "cell_type": "code",
   "execution_count": null,
   "metadata": {},
   "outputs": [],
   "source": [
    "#save for later use - commented out to avoid overwriting\n",
    "'''f = open('totalgrantdict.txt', 'a')\n",
    "f.write(str(totalgrantdict))\n",
    "f.close()'''"
   ]
  },
  {
   "cell_type": "code",
   "execution_count": null,
   "metadata": {},
   "outputs": [],
   "source": [
    "#data notes:\n",
    "'''Zenodo: \n",
    "- we take EC funded outputs from Zenodo\n",
    "- we take relations only with 'grantAgreement'\n",
    "OpenAire:\n",
    "- retrieve only EC funded projects: 45444 projects\n",
    "- retrieve only EC funded publications: 272 000 pubs\n",
    "- remove publications with empty \"dateofacceptance\" tag\n",
    "- remove publications with empty \"pid\" tag (indicates doi)\n",
    "'''"
   ]
  },
  {
   "cell_type": "code",
   "execution_count": null,
   "metadata": {},
   "outputs": [],
   "source": [
    "resp = requests.get('http://api.openaire.eu/oai_pmh?verb=ListRecords&metadataPrefix=oaf&set=ECPublications')\n",
    "soup = BeautifulSoup(resp.content, 'lxml')\n",
    "soup"
   ]
  },
  {
   "cell_type": "code",
   "execution_count": null,
   "metadata": {},
   "outputs": [],
   "source": [
    "resp = requests.get('http://api.openaire.eu/oai_pmh?verb=ListRecords&metadataPrefix=oaf&set=openaire_data')\n",
    "soup = BeautifulSoup(resp.content, 'lxml')\n",
    "soup"
   ]
  },
  {
   "cell_type": "markdown",
   "metadata": {},
   "source": [
    "## Trying Zenodo API"
   ]
  },
  {
   "cell_type": "code",
   "execution_count": null,
   "metadata": {},
   "outputs": [],
   "source": [
    "#http://api.openaire.eu/search/publications\n",
    "#resp = requests.get('http://api.openaire.eu/search/publications?size=100&hasProject=yes')\n",
    "#http://api.openaire.eu/oai_pmh?verb=ListRecords&set=projects&metadataPrefix=oaf&resumptionToken=\n",
    "#\n",
    "resp = requests.get('https://zenodo.org/oai2d?verb=ListRecords&metadataPrefix=oai_dc&set=software')\n",
    "soup = BeautifulSoup(resp.content, 'lxml')\n",
    "soup"
   ]
  },
  {
   "cell_type": "code",
   "execution_count": null,
   "metadata": {},
   "outputs": [],
   "source": [
    "#while page < max, use resumptiontokens to extract soups, then put all data into one big soup?\n",
    "#resptwo = requests.get('http://api.openaire.eu/oai_pmh?verb=ListRecords&resumptionToken=2544493|oaf|*%20AND%20oaftype%20exact%20\"project\"|1000|5beebb231e82123b9ba6b95d|false|projects')\n",
    "#respzeno = requests.get('https://zenodo.org/oai2d?verb=ListRecords&set=user-ecfunded&metadataPrefix=oai_dc')\n",
    "#soupzeno = BeautifulSoup(respzeno.content, 'lxml')\n",
    "#get resumptiontoken\n",
    "soups = list()\n",
    "restoken = soup.find(re.compile(\"^resumptiontoken\"))\n",
    "print restoken.text\n",
    "#while currecords < maxrecords:\n",
    "for i in range(2000, 100000, 1000):\n",
    "    print i,\"/\",100000\n",
    "    #newtoken = getGoodToken(restoken.text)\n",
    "    #print newtoken\n",
    "    requestring = 'https://zenodo.org/oai2d?verb=ListRecords&resumptionToken=' + restoken.text\n",
    "    print requestring\n",
    "    resploop = requests.get(requestring)\n",
    "    souploop = BeautifulSoup(resploop.content, 'lxml')\n",
    "    soups.append(souploop)\n",
    "    restoken = souploop.find(re.compile(\"^resumptiontoken\"))\n",
    "    #print currecords,\"/\",maxrecords"
   ]
  },
  {
   "cell_type": "code",
   "execution_count": null,
   "metadata": {},
   "outputs": [],
   "source": [
    "#https://zenodo.org/oai2d?verb=ListRecords&resumptionToken=.eJwNzkFPgzAYgOH_8p3RtIDWcJtxKDHtRgXiuCy1dITSAaEQscv-uz2_7-G5gVWqgQQ9RiFGMcFPzwS94DCO4gCsnEdjzp3vIL8rIwdTivdq5dcKncKWUG03pjNH33JHde4OJh14ygaJ2bHUecg_0vhLV0uJppn3e0KL0x91O0RdhqieeI14UUesKHCGWM83tR_xT8U-BapfD25HIIBJtAqSMID-V8ytheTmwYv3rFbND0pe1qHx_gCuahGNWMRxVpdu88MounMj4X7_B5MISRE.Dt1iLQ.2RTdiMilb_0f9nPjCIlZa6UL2G0\n",
    "len(soups)"
   ]
  },
  {
   "cell_type": "code",
   "execution_count": null,
   "metadata": {},
   "outputs": [],
   "source": [
    "soups[42]"
   ]
  },
  {
   "cell_type": "code",
   "execution_count": null,
   "metadata": {},
   "outputs": [],
   "source": [
    "#takes EC projectID line as an input, returns only the 6 digit EC project code\n",
    "def getProjectCode(totalstring):\n",
    "    splitted = totalstring.split('/')\n",
    "    result = str(splitted[len(splitted)-2])\n",
    "    return result;"
   ]
  },
  {
   "cell_type": "code",
   "execution_count": null,
   "metadata": {},
   "outputs": [],
   "source": [
    "def getOutputlist(records):\n",
    "    nodelist = list()\n",
    "    for record in records:\n",
    "        for sibling in record.previous_siblings:\n",
    "            if sibling.name == 'dc:date':\n",
    "                recorddate = sibling.text #need to parse the date\n",
    "            if sibling.name == 'dc:identifier':\n",
    "                recordID = sibling.text\n",
    "            #if sibling.name == 'dc:rights':\n",
    "                #if 'eu-repo' not in sibling.text:\n",
    "            #    tempo = sibling.text\n",
    "            if 'grantAgreement' in record.text:\n",
    "                grantID = record.text\n",
    "        for sibling in record.next_siblings:\n",
    "            if sibling.name == 'dc:type':\n",
    "                recordtype = sibling.text #need to parse the date\n",
    "        #append row to nodelist - recordID, related grant, date\n",
    "        nodelist.append([recordID, grantID, recorddate, recordtype])\n",
    "        print \"record: \", recordID, grantID, recorddate, recordtype\n",
    "    return nodelist;\n",
    "#edgelist\n",
    "#nodelist"
   ]
  },
  {
   "cell_type": "code",
   "execution_count": null,
   "metadata": {},
   "outputs": [],
   "source": [
    "#FOR ZENODO\n",
    "#gets a list of soups, finds relation tags and produces a list of outputs in the form of outputID, grantID, output date, output type\n",
    "totaloutputlist = list()\n",
    "for soup in soups:\n",
    "    souprecords = soup.find_all(re.compile(\"^dc:relation\"), string=re.compile(\"grantAgreement\"))\n",
    "    outputlist = getOutputlist(souprecords)\n",
    "    totaloutputlist = totaloutputlist + outputlist\n",
    "print len(totaloutputlist)"
   ]
  },
  {
   "cell_type": "code",
   "execution_count": null,
   "metadata": {},
   "outputs": [],
   "source": [
    "# convert output list into nodelist\n",
    "# for this need to take list of outputs and add to list of unique grantIDs\n",
    "# assign \"grant\" type to grantID rows\n",
    "def outstonodelist(outputlist):\n",
    "    nodelist = list()\n",
    "    for output in outputlist:\n",
    "        #add all outputID, date, type columns to the node list\n",
    "        nodelist.append([output[0],output[2],output[3]])\n",
    "        #add grantID with date and type \"grant\"\n",
    "        \n",
    "    print nodelist"
   ]
  },
  {
   "cell_type": "code",
   "execution_count": null,
   "metadata": {},
   "outputs": [],
   "source": [
    "outstonodelist(totaloutputlist)"
   ]
  },
  {
   "cell_type": "markdown",
   "metadata": {},
   "source": [
    "## OpenAire below is limited to 10000 records"
   ]
  },
  {
   "cell_type": "code",
   "execution_count": null,
   "metadata": {},
   "outputs": [],
   "source": [
    "#get list of FP7 and H2020 projects with dates\n",
    "#http://api.openaire.eu/search/projects?page=2&size=1000&startYear=2010\n",
    "testyear = '2011'\n",
    "#aireresp = requests.get('http://api.openaire.eu/search/projects?page=1&size=1000&startYear=2011')\n",
    "#airesoup = BeautifulSoup(aireresp.content, 'lxml')\n",
    "#airesoup"
   ]
  },
  {
   "cell_type": "code",
   "execution_count": null,
   "metadata": {},
   "outputs": [],
   "source": [
    "#get a soup list for open aire\n",
    "airesoups = list()\n",
    "maxpages = 11\n",
    "for i in range(1, maxpages):\n",
    "    print i,\"/\", maxpages\n",
    "    requestring = 'http://api.openaire.eu/search/projects?page=' + str(i) + '&size=1000&startYear=' + testyear\n",
    "    print requestring\n",
    "    resploop = requests.get(requestring)\n",
    "    souploop = BeautifulSoup(resploop.content, 'lxml')\n",
    "    airesoups.append(souploop)\n",
    "    #print currecords,\"/\",maxrecords"
   ]
  },
  {
   "cell_type": "code",
   "execution_count": null,
   "metadata": {},
   "outputs": [],
   "source": [
    "#FOR OPENAIRE\n",
    "#continue with the soup list\n",
    "#for each soup\n",
    "    #get 'code' tags for the soup\n",
    "    #for each codetag/record\n",
    "        #attach to dict with date\n",
    "grantdict = dict()\n",
    "recorddate = ''\n",
    "for airesoup in airesoups:\n",
    "    souprecords = airesoup.find_all('code')\n",
    "    #take records get nodelist and edgelist\n",
    "    for record in souprecords:\n",
    "        for sibling in record.previous_siblings:\n",
    "            if sibling.name == 'startdate':\n",
    "                recorddate = sibling.text #need to parse the date\n",
    "            #grantlist.append([record.text, recorddate])\n",
    "        grantdict[record.text] = recorddate\n",
    "        #print len(grantdict)\n",
    "        #print \"record\", record.text, recorddate\n",
    "len(grantdict)"
   ]
  },
  {
   "cell_type": "markdown",
   "metadata": {},
   "source": [
    "## BELOW CODE IS NOT USED FOR NOW"
   ]
  },
  {
   "cell_type": "code",
   "execution_count": null,
   "metadata": {},
   "outputs": [],
   "source": [
    "#while page < max, use resumptiontokens to extract soups, then put all data into one big soup?\n",
    "#resptwo = requests.get('http://api.openaire.eu/oai_pmh?verb=ListRecords&resumptionToken=2544493|oaf|*%20AND%20oaftype%20exact%20\"project\"|1000|5beebb231e82123b9ba6b95d|false|projects')\n",
    "#get resumptiontoken\n",
    "#session = requests.session()\n",
    "#session.keep_alive = False\n",
    "soups = list()\n",
    "soups.append(soupec)\n",
    "restoken = soupec.find(re.compile(\"^oai:resumptiontoken\"))\n",
    "print restoken.text\n",
    "maxrecords = getMaxRecords(restoken.text)\n",
    "currecords = getCurrentRecords(restoken.text)\n",
    "#while currecords < maxrecords:\n",
    "for i in range(2000, int(maxrecords)+2000, 1000):\n",
    "    print currecords,\"/\",maxrecords\n",
    "    newtoken = getGoodToken(restoken.text)\n",
    "    print \"newtoken:\", newtoken\n",
    "    requestring = 'http://api.openaire.eu/oai_pmh?verb=ListRecords&resumptionToken=' + newtoken\n",
    "    resploop = requests.get(requestring)\n",
    "    #print \"resploop:\", resploop.content\n",
    "    souploop = BeautifulSoup(resploop.content, 'lxml')\n",
    "    soups.append(souploop)\n",
    "    restoken = souploop.find(re.compile(\"^oai:resumptiontoken\"))\n",
    "    print restoken\n",
    "    #extract max and currently shown records\n",
    "    maxrecords = getMaxRecords(restoken.text)\n",
    "    currecords = getCurrentRecords(restoken.text)\n",
    "    #print currecords,\"/\",maxrecords"
   ]
  },
  {
   "cell_type": "code",
   "execution_count": null,
   "metadata": {},
   "outputs": [],
   "source": [
    "soups[6]"
   ]
  },
  {
   "cell_type": "code",
   "execution_count": null,
   "metadata": {},
   "outputs": [],
   "source": [
    "restoken = soups[len(soups)-3].find(re.compile(\"^oai:resumptiontoken\"))\n",
    "print restoken.text\n",
    "newtoken = getGoodToken(restoken.text)\n",
    "print \"newtoken:\", newtoken\n",
    "requestring = 'http://api.openaire.eu/oai_pmh?verb=ListRecords&resumptionToken=' + newtoken\n",
    "resploop = requests.get(requestring)\n",
    "#print \"resploop:\", resploop.content\n",
    "souploop = BeautifulSoup(resploop.content, 'lxml')\n",
    "soups.append(souploop)\n",
    "restoken = souploop.find(re.compile(\"^oai:resumptiontoken\"))\n",
    "print restoken"
   ]
  },
  {
   "cell_type": "code",
   "execution_count": null,
   "metadata": {},
   "outputs": [],
   "source": [
    "respectest = requests.get('http://api.openaire.eu/oai_pmh?verb=ListRecords&resumptionToken=45444|oaf|*%20AND%20(oaftype%20exact%20\"project\"%20and%20funder%20exact%20\"EC\")|7000|5beebcd3b531c539006a066d|false|ECProjects')\n",
    "respectest.content"
   ]
  },
  {
   "cell_type": "code",
   "execution_count": null,
   "metadata": {},
   "outputs": [],
   "source": [
    "#takes resumption token string as an input, returns part before the first separator\n",
    "def getMaxRecords(totalstring):\n",
    "    splitted = totalstring.split('|')\n",
    "    #print splitted[0]\n",
    "    #result = str(splitted[len(splitted)-2])\n",
    "    return splitted[0];"
   ]
  },
  {
   "cell_type": "code",
   "execution_count": null,
   "metadata": {},
   "outputs": [],
   "source": [
    "#takes resumption token string as an input, returns part before the first separator\n",
    "def getCurrentRecords(totalstring):\n",
    "    splitted = totalstring.split('|')\n",
    "    #print splitted[0]\n",
    "    #result = str(splitted[len(splitted)-2])\n",
    "    return splitted[3];"
   ]
  },
  {
   "cell_type": "code",
   "execution_count": null,
   "metadata": {},
   "outputs": [],
   "source": [
    "def getCursor(restoken):\n",
    "    result = restoken['cursor']\n",
    "    return result;"
   ]
  },
  {
   "cell_type": "code",
   "execution_count": null,
   "metadata": {},
   "outputs": [],
   "source": [
    "#for each record\n",
    "    #find siblings with date\n",
    "    #put record + date into grantdict\n",
    "grantdict = dict()\n",
    "for record in recordstwo:\n",
    "    for sibling in record.previous_siblings:\n",
    "        if sibling.name == 'startdate':\n",
    "            recorddate = sibling.text #need to parse the date\n",
    "    #grantlist.append([record.text, recorddate])\n",
    "    grantdict[record.text] = recorddate\n",
    "    #print \"record\", record.text\n",
    "grantdict"
   ]
  },
  {
   "cell_type": "code",
   "execution_count": null,
   "metadata": {},
   "outputs": [],
   "source": [
    "#retrieve projects from openaire\n",
    "#build a 2d list in the form of grantID - date\n",
    "#get first request\n",
    "resptwo = requests.get('http://api.openaire.eu/oai_pmh?verb=ListRecords&set=projects&metadataPrefix=oaf')\n",
    "#NOTE: size is set to 1000 by default\n",
    "#TODO: retrieve resumption token, put in loop\n",
    "souptwo = BeautifulSoup(resptwo.content, 'lxml')\n",
    "#http://api.openaire.eu/oai_pmh?verb=ListRecords&set=projects&metadataPrefix=oaf\n",
    "souptwo"
   ]
  },
  {
   "cell_type": "code",
   "execution_count": null,
   "metadata": {},
   "outputs": [],
   "source": [
    "temp = '2544493|oaf|* AND oaftype exact \"project\"|1000|5beebb231e82123b9ba6b95d|false|projects'\n",
    "       '2544493|oaf|* AND oaftype exact \"project\"|1000|5beebb231e82123b9ba6b95d|false|projects'\n",
    "newtemp = temp.replace(' ', '%20')\n",
    "newtemp"
   ]
  },
  {
   "cell_type": "code",
   "execution_count": null,
   "metadata": {},
   "outputs": [],
   "source": [
    "#get list of project codes\n",
    "recordstwo=souptwo.find_all('code')"
   ]
  },
  {
   "cell_type": "code",
   "execution_count": null,
   "metadata": {},
   "outputs": [],
   "source": [
    "#get a list of all objects with ID and http links (the other ones are repeating - e.g. oai)\n",
    "#records=soup.find_all(re.compile(\"^dc:identifier\"), string=re.compile(\"http\"))\n",
    "records=soup.find_all(re.compile(\"^dc:identifier\"))"
   ]
  },
  {
   "cell_type": "code",
   "execution_count": null,
   "metadata": {
    "scrolled": true
   },
   "outputs": [],
   "source": [
    "#clean records - leave only doi identifiers\n",
    "#WHY this needs two times execution?\n",
    "for record in records:\n",
    "    if (\"http\" in record.text) or (\"oai:\" in record.text):\n",
    "        records.remove(record)\n",
    "        print record.text,' removed'\n",
    "records"
   ]
  },
  {
   "cell_type": "code",
   "execution_count": null,
   "metadata": {},
   "outputs": [],
   "source": [
    "getProjectCode('info:eu-repo/grantAgreement/EC/FP7/603264/')"
   ]
  },
  {
   "cell_type": "code",
   "execution_count": null,
   "metadata": {},
   "outputs": [],
   "source": [
    "grantdict['248919']"
   ]
  },
  {
   "cell_type": "code",
   "execution_count": null,
   "metadata": {},
   "outputs": [],
   "source": [
    "root = ET.fromstring(resp.content)"
   ]
  },
  {
   "cell_type": "code",
   "execution_count": null,
   "metadata": {},
   "outputs": [],
   "source": []
  },
  {
   "cell_type": "code",
   "execution_count": null,
   "metadata": {},
   "outputs": [],
   "source": [
    "print(root.findall('.//*'))"
   ]
  },
  {
   "cell_type": "code",
   "execution_count": null,
   "metadata": {},
   "outputs": [],
   "source": [
    "print root.findall('{http://purl.org/dc/elements/1.1/}relation')"
   ]
  },
  {
   "cell_type": "code",
   "execution_count": null,
   "metadata": {},
   "outputs": [],
   "source": [
    "dc = 'http://purl.org/dc/elements/1.1/'\n",
    "print root.find('{http://purl.org/dc/elements/1.1}relation')"
   ]
  },
  {
   "cell_type": "code",
   "execution_count": null,
   "metadata": {},
   "outputs": [],
   "source": [
    "print(ET.tostring(root, encoding='utf8').decode('utf8'))"
   ]
  },
  {
   "cell_type": "code",
   "execution_count": null,
   "metadata": {},
   "outputs": [],
   "source": [
    "#listRecords, record, metadata, dc, relation\n",
    "#root[2][0][1][0][11].text\n",
    "#for index in range(0, 90):\n",
    "    #print(root[2][index][1][0][11].text)\n",
    "print(root[2][0][1][0][11].text)\n",
    "print(root[2][1][1][0][11].text)\n",
    "    #print(root[2][index][1][0][7].text)"
   ]
  },
  {
   "cell_type": "code",
   "execution_count": null,
   "metadata": {},
   "outputs": [],
   "source": [
    "for relation in root.iter('dc%3Arelation'):\n",
    "    print(relation.attrib)"
   ]
  },
  {
   "cell_type": "code",
   "execution_count": null,
   "metadata": {},
   "outputs": [],
   "source": [
    "for record in root[2].iter('relation'):\n",
    "    print record.attrib"
   ]
  },
  {
   "cell_type": "code",
   "execution_count": null,
   "metadata": {},
   "outputs": [],
   "source": []
  },
  {
   "cell_type": "code",
   "execution_count": null,
   "metadata": {},
   "outputs": [],
   "source": [
    "getCurrentRecords(u'2544493|oaf|* AND oaftype exact \"project\"|2000|5beebb23be047061a7690bc3|false|projects')"
   ]
  },
  {
   "cell_type": "code",
   "execution_count": null,
   "metadata": {},
   "outputs": [],
   "source": [
    "getGoodToken(u'2544493|oaf|* AND oaftype exact \"project\"|2000|5beebb23be047061a7690bc3|false|projects')"
   ]
  }
 ],
 "metadata": {
  "kernelspec": {
   "display_name": "Python 2",
   "language": "python",
   "name": "python2"
  },
  "language_info": {
   "codemirror_mode": {
    "name": "ipython",
    "version": 2
   },
   "file_extension": ".py",
   "mimetype": "text/x-python",
   "name": "python",
   "nbconvert_exporter": "python",
   "pygments_lexer": "ipython2",
   "version": "2.7.14"
  }
 },
 "nbformat": 4,
 "nbformat_minor": 2
}
