{
 "cells": [
  {
   "cell_type": "code",
   "execution_count": 2,
   "metadata": {},
   "outputs": [
    {
     "name": "stdout",
     "output_type": "stream",
     "text": [
      "Hello World\n"
     ]
    }
   ],
   "source": [
    "print \"Hello World\""
   ]
  },
  {
   "cell_type": "code",
   "execution_count": null,
   "metadata": {},
   "outputs": [],
   "source": [
    "import csv\n",
    "import pandas\n",
    "data = pandas.read_csv(\"NYPD_Complaint_Data_Historic.csv\", usecols=[0,13])"
   ]
  },
  {
   "cell_type": "code",
   "execution_count": null,
   "metadata": {},
   "outputs": [],
   "source": [
    "print data"
   ]
  },
  {
   "cell_type": "code",
   "execution_count": 20,
   "metadata": {},
   "outputs": [],
   "source": [
    "len(data[data[\"BORO_NM\"] == 'BRONX'])"
   ]
  },
  {
   "cell_type": "code",
   "execution_count": 12,
   "metadata": {},
   "outputs": [
    {
     "data": {
      "text/plain": [
       "1105621"
      ]
     },
     "execution_count": 12,
     "metadata": {},
     "output_type": "execute_result"
    }
   ],
   "source": [
    "len(data[data[\"BORO_NM\"] == 'QUEENS'])"
   ]
  },
  {
   "cell_type": "code",
   "execution_count": 13,
   "metadata": {},
   "outputs": [
    {
     "data": {
      "text/plain": [
       "1666903"
      ]
     },
     "execution_count": 13,
     "metadata": {},
     "output_type": "execute_result"
    }
   ],
   "source": [
    "len(data[data[\"BORO_NM\"] == 'BROOKLYN'])"
   ]
  },
  {
   "cell_type": "code",
   "execution_count": 14,
   "metadata": {},
   "outputs": [
    {
     "data": {
      "text/plain": [
       "1331760"
      ]
     },
     "execution_count": 14,
     "metadata": {},
     "output_type": "execute_result"
    }
   ],
   "source": [
    "len(data[data[\"BORO_NM\"] == 'MANHATTAN'])"
   ]
  },
  {
   "cell_type": "code",
   "execution_count": 15,
   "metadata": {},
   "outputs": [
    {
     "data": {
      "text/plain": [
       "265641"
      ]
     },
     "execution_count": 15,
     "metadata": {},
     "output_type": "execute_result"
    }
   ],
   "source": [
    "len(data[data[\"BORO_NM\"] == 'STATEN ISLAND'])"
   ]
  },
  {
   "cell_type": "code",
   "execution_count": 61,
   "metadata": {},
   "outputs": [],
   "source": [
    "bronx = len(data[data[\"BORO_NM\"] == 'BRONX']) / float(len(data)) * 100\n",
    "queens = len(data[data[\"BORO_NM\"] == 'QUEENS']) / float(len(data)) * 100\n",
    "manhattan = len(data[data[\"BORO_NM\"] == 'MANHATTAN']) / float(len(data)) * 100\n",
    "brooklyn = len(data[data[\"BORO_NM\"] == 'BROOKLYN']) / float(len(data)) * 100\n",
    "staten = len(data[data[\"BORO_NM\"] == 'STATEN ISLAND']) / float(len(data)) * 100"
   ]
  },
  {
   "cell_type": "code",
   "execution_count": 64,
   "metadata": {},
   "outputs": [],
   "source": [
    "result = []\n",
    "strsum = \"bronx, %f\" % bronx\n",
    "result.append(strsum)\n",
    "strsum = \"queens, %f\" % queens\n",
    "result.append(strsum)\n",
    "strsum = \"manhattan, %f\" % manhattan\n",
    "result.append(strsum)\n",
    "strsum = \"brooklyn, %f\" % brooklyn\n",
    "result.append(strsum)\n",
    "strsum = \"staten island, %f\" % staten\n",
    "result.append(strsum)"
   ]
  },
  {
   "cell_type": "code",
   "execution_count": 65,
   "metadata": {},
   "outputs": [
    {
     "name": "stdout",
     "output_type": "stream",
     "text": [
      "['bronx, 21.678126', 'queens, 19.813872', 'manhattan, 23.866517', 'brooklyn, 29.872626', 'staten island, 4.760562']\n"
     ]
    }
   ],
   "source": [
    "print result"
   ]
  },
  {
   "cell_type": "code",
   "execution_count": null,
   "metadata": {},
   "outputs": [],
   "source": []
  }
 ],
 "metadata": {
  "kernelspec": {
   "display_name": "Python 2",
   "language": "python",
   "name": "python2"
  },
  "language_info": {
   "codemirror_mode": {
    "name": "ipython",
    "version": 2
   },
   "file_extension": ".py",
   "mimetype": "text/x-python",
   "name": "python",
   "nbconvert_exporter": "python",
   "pygments_lexer": "ipython2",
   "version": "2.7.14"
  }
 },
 "nbformat": 4,
 "nbformat_minor": 2
}
