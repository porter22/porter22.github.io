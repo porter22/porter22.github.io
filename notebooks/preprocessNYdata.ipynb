{
 "cells": [
  {
   "cell_type": "code",
   "execution_count": 2,
   "metadata": {},
   "outputs": [
    {
     "name": "stdout",
     "output_type": "stream",
     "text": [
      "Hello World\n"
     ]
    }
   ],
   "source": [
    "print \"Hello World\""
   ]
  },
  {
   "cell_type": "code",
   "execution_count": 1,
   "metadata": {},
   "outputs": [],
   "source": [
    "import csv\n",
    "import pandas\n",
    "data = pandas.read_csv(\"NYPD_Complaint_Data_Historic.csv\", usecols=[0,13])"
   ]
  },
  {
   "cell_type": "code",
   "execution_count": 2,
   "metadata": {},
   "outputs": [
    {
     "name": "stdout",
     "output_type": "stream",
     "text": [
      "                               OFNS_DESC        BORO_NM\n",
      "0                                FORGERY          BRONX\n",
      "1        MURDER & NON-NEGL. MANSLAUGHTER         QUEENS\n",
      "2                        DANGEROUS DRUGS      MANHATTAN\n",
      "3           ASSAULT 3 & RELATED OFFENSES         QUEENS\n",
      "4           ASSAULT 3 & RELATED OFFENSES      MANHATTAN\n",
      "5                         FELONY ASSAULT       BROOKLYN\n",
      "6                        DANGEROUS DRUGS      MANHATTAN\n",
      "7                      DANGEROUS WEAPONS          BRONX\n",
      "8           ASSAULT 3 & RELATED OFFENSES          BRONX\n",
      "9                          PETIT LARCENY      MANHATTAN\n",
      "10                         PETIT LARCENY          BRONX\n",
      "11                         PETIT LARCENY      MANHATTAN\n",
      "12                         GRAND LARCENY      MANHATTAN\n",
      "13                         GRAND LARCENY      MANHATTAN\n",
      "14                               FORGERY       BROOKLYN\n",
      "15                               ROBBERY         QUEENS\n",
      "16                         GRAND LARCENY      MANHATTAN\n",
      "17        OFFENSES AGAINST PUBLIC ADMINI          BRONX\n",
      "18          ASSAULT 3 & RELATED OFFENSES       BROOKLYN\n",
      "19        CRIMINAL MISCHIEF & RELATED OF         QUEENS\n",
      "20                       DANGEROUS DRUGS       BROOKLYN\n",
      "21                                  RAPE         QUEENS\n",
      "22                       DANGEROUS DRUGS         QUEENS\n",
      "23                        FELONY ASSAULT       BROOKLYN\n",
      "24                     DANGEROUS WEAPONS       BROOKLYN\n",
      "25          ASSAULT 3 & RELATED OFFENSES       BROOKLYN\n",
      "26          ASSAULT 3 & RELATED OFFENSES       BROOKLYN\n",
      "27                     DANGEROUS WEAPONS       BROOKLYN\n",
      "28                       DANGEROUS DRUGS       BROOKLYN\n",
      "29        INTOXICATED & IMPAIRED DRIVING  STATEN ISLAND\n",
      "...                                  ...            ...\n",
      "5580005    OFF. AGNST PUB ORD SENSBLTY &         QUEENS\n",
      "5580006                         BURGLARY         QUEENS\n",
      "5580007         OFFENSES INVOLVING FRAUD          BRONX\n",
      "5580008                            ARSON         QUEENS\n",
      "5580009                    GRAND LARCENY       BROOKLYN\n",
      "5580010                    HARRASSMENT 2         QUEENS\n",
      "5580011                    HARRASSMENT 2         QUEENS\n",
      "5580012                    GRAND LARCENY         QUEENS\n",
      "5580013                    GRAND LARCENY       BROOKLYN\n",
      "5580014                            ARSON         QUEENS\n",
      "5580015                    HARRASSMENT 2          BRONX\n",
      "5580016                    HARRASSMENT 2          BRONX\n",
      "5580017    OFF. AGNST PUB ORD SENSBLTY &      MANHATTAN\n",
      "5580018                       SEX CRIMES         QUEENS\n",
      "5580019                            ARSON         QUEENS\n",
      "5580020    OFF. AGNST PUB ORD SENSBLTY &         QUEENS\n",
      "5580021    OFF. AGNST PUB ORD SENSBLTY &  STATEN ISLAND\n",
      "5580022                  DANGEROUS DRUGS       BROOKLYN\n",
      "5580023                    HARRASSMENT 2      MANHATTAN\n",
      "5580024                    HARRASSMENT 2          BRONX\n",
      "5580025                   FELONY ASSAULT       BROOKLYN\n",
      "5580026                    HARRASSMENT 2       BROOKLYN\n",
      "5580027                    HARRASSMENT 2         QUEENS\n",
      "5580028     ASSAULT 3 & RELATED OFFENSES          BRONX\n",
      "5580029                          ROBBERY         QUEENS\n",
      "5580030                          ROBBERY      MANHATTAN\n",
      "5580031                    HARRASSMENT 2          BRONX\n",
      "5580032                   FELONY ASSAULT         QUEENS\n",
      "5580033    OFF. AGNST PUB ORD SENSBLTY &          BRONX\n",
      "5580034                         BURGLARY       BROOKLYN\n",
      "\n",
      "[5580035 rows x 2 columns]\n"
     ]
    }
   ],
   "source": [
    "print data"
   ]
  },
  {
   "cell_type": "code",
   "execution_count": 20,
   "metadata": {},
   "outputs": [],
   "source": [
    "len(data[data[\"BORO_NM\"] == 'BRONX'])"
   ]
  },
  {
   "cell_type": "code",
   "execution_count": 12,
   "metadata": {},
   "outputs": [
    {
     "data": {
      "text/plain": [
       "1105621"
      ]
     },
     "execution_count": 12,
     "metadata": {},
     "output_type": "execute_result"
    }
   ],
   "source": [
    "len(data[data[\"BORO_NM\"] == 'QUEENS'])"
   ]
  },
  {
   "cell_type": "code",
   "execution_count": 13,
   "metadata": {},
   "outputs": [
    {
     "data": {
      "text/plain": [
       "1666903"
      ]
     },
     "execution_count": 13,
     "metadata": {},
     "output_type": "execute_result"
    }
   ],
   "source": [
    "len(data[data[\"BORO_NM\"] == 'BROOKLYN'])"
   ]
  },
  {
   "cell_type": "code",
   "execution_count": 14,
   "metadata": {},
   "outputs": [
    {
     "data": {
      "text/plain": [
       "1331760"
      ]
     },
     "execution_count": 14,
     "metadata": {},
     "output_type": "execute_result"
    }
   ],
   "source": [
    "len(data[data[\"BORO_NM\"] == 'MANHATTAN'])"
   ]
  },
  {
   "cell_type": "code",
   "execution_count": 15,
   "metadata": {},
   "outputs": [
    {
     "data": {
      "text/plain": [
       "265641"
      ]
     },
     "execution_count": 15,
     "metadata": {},
     "output_type": "execute_result"
    }
   ],
   "source": [
    "len(data[data[\"BORO_NM\"] == 'STATEN ISLAND'])"
   ]
  },
  {
   "cell_type": "code",
   "execution_count": 61,
   "metadata": {},
   "outputs": [],
   "source": [
    "bronx = len(data[data[\"BORO_NM\"] == 'BRONX']) / float(len(data)) * 100\n",
    "queens = len(data[data[\"BORO_NM\"] == 'QUEENS']) / float(len(data)) * 100\n",
    "manhattan = len(data[data[\"BORO_NM\"] == 'MANHATTAN']) / float(len(data)) * 100\n",
    "brooklyn = len(data[data[\"BORO_NM\"] == 'BROOKLYN']) / float(len(data)) * 100\n",
    "staten = len(data[data[\"BORO_NM\"] == 'STATEN ISLAND']) / float(len(data)) * 100"
   ]
  },
  {
   "cell_type": "code",
   "execution_count": 64,
   "metadata": {},
   "outputs": [],
   "source": [
    "result = []\n",
    "strsum = \"bronx, %f\" % bronx\n",
    "result.append(strsum)\n",
    "strsum = \"queens, %f\" % queens\n",
    "result.append(strsum)\n",
    "strsum = \"manhattan, %f\" % manhattan\n",
    "result.append(strsum)\n",
    "strsum = \"brooklyn, %f\" % brooklyn\n",
    "result.append(strsum)\n",
    "strsum = \"staten island, %f\" % staten\n",
    "result.append(strsum)"
   ]
  },
  {
   "cell_type": "code",
   "execution_count": 65,
   "metadata": {},
   "outputs": [
    {
     "name": "stdout",
     "output_type": "stream",
     "text": [
      "['bronx, 21.678126', 'queens, 19.813872', 'manhattan, 23.866517', 'brooklyn, 29.872626', 'staten island, 4.760562']\n"
     ]
    }
   ],
   "source": [
    "print result"
   ]
  },
  {
   "cell_type": "code",
   "execution_count": null,
   "metadata": {},
   "outputs": [],
   "source": []
  }
 ],
 "metadata": {
  "kernelspec": {
   "display_name": "Python 2",
   "language": "python",
   "name": "python2"
  },
  "language_info": {
   "codemirror_mode": {
    "name": "ipython",
    "version": 2
   },
   "file_extension": ".py",
   "mimetype": "text/x-python",
   "name": "python",
   "nbconvert_exporter": "python",
   "pygments_lexer": "ipython2",
   "version": "2.7.14"
  }
 },
 "nbformat": 4,
 "nbformat_minor": 2
}
