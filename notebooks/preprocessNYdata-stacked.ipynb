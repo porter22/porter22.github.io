{
 "cells": [
  {
   "cell_type": "code",
   "execution_count": 6,
   "metadata": {},
   "outputs": [
    {
     "name": "stdout",
     "output_type": "stream",
     "text": [
      "Hello World\n"
     ]
    }
   ],
   "source": [
    "print \"Hello World\""
   ]
  },
  {
   "cell_type": "code",
   "execution_count": 7,
   "metadata": {},
   "outputs": [],
   "source": [
    "import csv\n",
    "import pandas\n",
    "data = pandas.read_csv(\"NYPD_Complaint_Data_Historic.csv\", usecols=[5,7,13])"
   ]
  },
  {
   "cell_type": "code",
   "execution_count": 8,
   "metadata": {},
   "outputs": [],
   "source": [
    "sel = data[(data[\"BORO_NM\"] == 'MANHATTAN') & (data[\"RPT_DT\"].str.contains(\"2016\"))]"
   ]
  },
  {
   "cell_type": "code",
   "execution_count": 9,
   "metadata": {
    "scrolled": true
   },
   "outputs": [
    {
     "data": {
      "text/html": [
       "<div>\n",
       "<style scoped>\n",
       "    .dataframe tbody tr th:only-of-type {\n",
       "        vertical-align: middle;\n",
       "    }\n",
       "\n",
       "    .dataframe tbody tr th {\n",
       "        vertical-align: top;\n",
       "    }\n",
       "\n",
       "    .dataframe thead th {\n",
       "        text-align: right;\n",
       "    }\n",
       "</style>\n",
       "<table border=\"1\" class=\"dataframe\">\n",
       "  <thead>\n",
       "    <tr style=\"text-align: right;\">\n",
       "      <th></th>\n",
       "      <th>RPT_DT</th>\n",
       "      <th>BORO_NM</th>\n",
       "    </tr>\n",
       "    <tr>\n",
       "      <th>OFNS_DESC</th>\n",
       "      <th></th>\n",
       "      <th></th>\n",
       "    </tr>\n",
       "  </thead>\n",
       "  <tbody>\n",
       "    <tr>\n",
       "      <th>ADMINISTRATIVE CODE</th>\n",
       "      <td>87</td>\n",
       "      <td>87</td>\n",
       "    </tr>\n",
       "    <tr>\n",
       "      <th>AGRICULTURE &amp; MRKTS LAW-UNCLASSIFIED</th>\n",
       "      <td>37</td>\n",
       "      <td>37</td>\n",
       "    </tr>\n",
       "    <tr>\n",
       "      <th>ALCOHOLIC BEVERAGE CONTROL LAW</th>\n",
       "      <td>12</td>\n",
       "      <td>12</td>\n",
       "    </tr>\n",
       "    <tr>\n",
       "      <th>ANTICIPATORY OFFENSES</th>\n",
       "      <td>2</td>\n",
       "      <td>2</td>\n",
       "    </tr>\n",
       "    <tr>\n",
       "      <th>ARSON</th>\n",
       "      <td>135</td>\n",
       "      <td>135</td>\n",
       "    </tr>\n",
       "    <tr>\n",
       "      <th>ASSAULT 3 &amp; RELATED OFFENSES</th>\n",
       "      <td>10418</td>\n",
       "      <td>10418</td>\n",
       "    </tr>\n",
       "    <tr>\n",
       "      <th>BURGLAR'S TOOLS</th>\n",
       "      <td>102</td>\n",
       "      <td>102</td>\n",
       "    </tr>\n",
       "    <tr>\n",
       "      <th>BURGLARY</th>\n",
       "      <td>2419</td>\n",
       "      <td>2419</td>\n",
       "    </tr>\n",
       "    <tr>\n",
       "      <th>CHILD ABANDONMENT/NON SUPPORT</th>\n",
       "      <td>6</td>\n",
       "      <td>6</td>\n",
       "    </tr>\n",
       "    <tr>\n",
       "      <th>CRIMINAL MISCHIEF &amp; RELATED OF</th>\n",
       "      <td>10003</td>\n",
       "      <td>10003</td>\n",
       "    </tr>\n",
       "    <tr>\n",
       "      <th>CRIMINAL TRESPASS</th>\n",
       "      <td>1363</td>\n",
       "      <td>1363</td>\n",
       "    </tr>\n",
       "    <tr>\n",
       "      <th>DANGEROUS DRUGS</th>\n",
       "      <td>6603</td>\n",
       "      <td>6603</td>\n",
       "    </tr>\n",
       "    <tr>\n",
       "      <th>DANGEROUS WEAPONS</th>\n",
       "      <td>2308</td>\n",
       "      <td>2308</td>\n",
       "    </tr>\n",
       "    <tr>\n",
       "      <th>DISORDERLY CONDUCT</th>\n",
       "      <td>14</td>\n",
       "      <td>14</td>\n",
       "    </tr>\n",
       "    <tr>\n",
       "      <th>DISRUPTION OF A RELIGIOUS SERV</th>\n",
       "      <td>2</td>\n",
       "      <td>2</td>\n",
       "    </tr>\n",
       "    <tr>\n",
       "      <th>ENDAN WELFARE INCOMP</th>\n",
       "      <td>7</td>\n",
       "      <td>7</td>\n",
       "    </tr>\n",
       "    <tr>\n",
       "      <th>ESCAPE 3</th>\n",
       "      <td>3</td>\n",
       "      <td>3</td>\n",
       "    </tr>\n",
       "    <tr>\n",
       "      <th>FELONY ASSAULT</th>\n",
       "      <td>3768</td>\n",
       "      <td>3768</td>\n",
       "    </tr>\n",
       "    <tr>\n",
       "      <th>FORGERY</th>\n",
       "      <td>1557</td>\n",
       "      <td>1557</td>\n",
       "    </tr>\n",
       "    <tr>\n",
       "      <th>FRAUDS</th>\n",
       "      <td>884</td>\n",
       "      <td>884</td>\n",
       "    </tr>\n",
       "    <tr>\n",
       "      <th>FRAUDULENT ACCOSTING</th>\n",
       "      <td>170</td>\n",
       "      <td>170</td>\n",
       "    </tr>\n",
       "    <tr>\n",
       "      <th>GAMBLING</th>\n",
       "      <td>101</td>\n",
       "      <td>101</td>\n",
       "    </tr>\n",
       "    <tr>\n",
       "      <th>GRAND LARCENY</th>\n",
       "      <td>16477</td>\n",
       "      <td>16477</td>\n",
       "    </tr>\n",
       "    <tr>\n",
       "      <th>GRAND LARCENY OF MOTOR VEHICLE</th>\n",
       "      <td>732</td>\n",
       "      <td>732</td>\n",
       "    </tr>\n",
       "    <tr>\n",
       "      <th>HARRASSMENT 2</th>\n",
       "      <td>13245</td>\n",
       "      <td>13245</td>\n",
       "    </tr>\n",
       "    <tr>\n",
       "      <th>INTOXICATED &amp; IMPAIRED DRIVING</th>\n",
       "      <td>893</td>\n",
       "      <td>893</td>\n",
       "    </tr>\n",
       "    <tr>\n",
       "      <th>INTOXICATED/IMPAIRED DRIVING</th>\n",
       "      <td>1</td>\n",
       "      <td>1</td>\n",
       "    </tr>\n",
       "    <tr>\n",
       "      <th>JOSTLING</th>\n",
       "      <td>33</td>\n",
       "      <td>33</td>\n",
       "    </tr>\n",
       "    <tr>\n",
       "      <th>KIDNAPPING &amp; RELATED OFFENSES</th>\n",
       "      <td>25</td>\n",
       "      <td>25</td>\n",
       "    </tr>\n",
       "    <tr>\n",
       "      <th>LOITERING</th>\n",
       "      <td>1</td>\n",
       "      <td>1</td>\n",
       "    </tr>\n",
       "    <tr>\n",
       "      <th>LOITERING/GAMBLING (CARDS, DIC</th>\n",
       "      <td>3</td>\n",
       "      <td>3</td>\n",
       "    </tr>\n",
       "    <tr>\n",
       "      <th>MISCELLANEOUS PENAL LAW</th>\n",
       "      <td>2019</td>\n",
       "      <td>2019</td>\n",
       "    </tr>\n",
       "    <tr>\n",
       "      <th>MURDER &amp; NON-NEGL. MANSLAUGHTER</th>\n",
       "      <td>41</td>\n",
       "      <td>41</td>\n",
       "    </tr>\n",
       "    <tr>\n",
       "      <th>NEW YORK CITY HEALTH CODE</th>\n",
       "      <td>1</td>\n",
       "      <td>1</td>\n",
       "    </tr>\n",
       "    <tr>\n",
       "      <th>NYS LAWS-UNCLASSIFIED FELONY</th>\n",
       "      <td>329</td>\n",
       "      <td>329</td>\n",
       "    </tr>\n",
       "    <tr>\n",
       "      <th>NYS LAWS-UNCLASSIFIED VIOLATION</th>\n",
       "      <td>2</td>\n",
       "      <td>2</td>\n",
       "    </tr>\n",
       "    <tr>\n",
       "      <th>OFF. AGNST PUB ORD SENSBLTY &amp;</th>\n",
       "      <td>4722</td>\n",
       "      <td>4722</td>\n",
       "    </tr>\n",
       "    <tr>\n",
       "      <th>OFFENSES AGAINST PUBLIC ADMINI</th>\n",
       "      <td>2422</td>\n",
       "      <td>2422</td>\n",
       "    </tr>\n",
       "    <tr>\n",
       "      <th>OFFENSES AGAINST PUBLIC SAFETY</th>\n",
       "      <td>16</td>\n",
       "      <td>16</td>\n",
       "    </tr>\n",
       "    <tr>\n",
       "      <th>OFFENSES AGAINST THE PERSON</th>\n",
       "      <td>300</td>\n",
       "      <td>300</td>\n",
       "    </tr>\n",
       "    <tr>\n",
       "      <th>OFFENSES INVOLVING FRAUD</th>\n",
       "      <td>554</td>\n",
       "      <td>554</td>\n",
       "    </tr>\n",
       "    <tr>\n",
       "      <th>OFFENSES RELATED TO CHILDREN</th>\n",
       "      <td>11</td>\n",
       "      <td>11</td>\n",
       "    </tr>\n",
       "    <tr>\n",
       "      <th>OTHER OFFENSES RELATED TO THEF</th>\n",
       "      <td>419</td>\n",
       "      <td>419</td>\n",
       "    </tr>\n",
       "    <tr>\n",
       "      <th>OTHER STATE LAWS</th>\n",
       "      <td>4</td>\n",
       "      <td>4</td>\n",
       "    </tr>\n",
       "    <tr>\n",
       "      <th>OTHER STATE LAWS (NON PENAL LA</th>\n",
       "      <td>96</td>\n",
       "      <td>96</td>\n",
       "    </tr>\n",
       "    <tr>\n",
       "      <th>OTHER STATE LAWS (NON PENAL LAW)</th>\n",
       "      <td>2</td>\n",
       "      <td>2</td>\n",
       "    </tr>\n",
       "    <tr>\n",
       "      <th>PETIT LARCENY</th>\n",
       "      <td>24620</td>\n",
       "      <td>24620</td>\n",
       "    </tr>\n",
       "    <tr>\n",
       "      <th>PETIT LARCENY OF MOTOR VEHICLE</th>\n",
       "      <td>7</td>\n",
       "      <td>7</td>\n",
       "    </tr>\n",
       "    <tr>\n",
       "      <th>POSSESSION OF STOLEN PROPERTY</th>\n",
       "      <td>486</td>\n",
       "      <td>486</td>\n",
       "    </tr>\n",
       "    <tr>\n",
       "      <th>PROSTITUTION &amp; RELATED OFFENSES</th>\n",
       "      <td>10</td>\n",
       "      <td>10</td>\n",
       "    </tr>\n",
       "    <tr>\n",
       "      <th>RAPE</th>\n",
       "      <td>291</td>\n",
       "      <td>291</td>\n",
       "    </tr>\n",
       "    <tr>\n",
       "      <th>ROBBERY</th>\n",
       "      <td>2918</td>\n",
       "      <td>2918</td>\n",
       "    </tr>\n",
       "    <tr>\n",
       "      <th>SEX CRIMES</th>\n",
       "      <td>1854</td>\n",
       "      <td>1854</td>\n",
       "    </tr>\n",
       "    <tr>\n",
       "      <th>THEFT OF SERVICES</th>\n",
       "      <td>228</td>\n",
       "      <td>228</td>\n",
       "    </tr>\n",
       "    <tr>\n",
       "      <th>THEFT-FRAUD</th>\n",
       "      <td>1493</td>\n",
       "      <td>1493</td>\n",
       "    </tr>\n",
       "    <tr>\n",
       "      <th>UNAUTHORIZED USE OF A VEHICLE</th>\n",
       "      <td>171</td>\n",
       "      <td>171</td>\n",
       "    </tr>\n",
       "    <tr>\n",
       "      <th>VEHICLE AND TRAFFIC LAWS</th>\n",
       "      <td>1079</td>\n",
       "      <td>1079</td>\n",
       "    </tr>\n",
       "  </tbody>\n",
       "</table>\n",
       "</div>"
      ],
      "text/plain": [
       "                                      RPT_DT  BORO_NM\n",
       "OFNS_DESC                                            \n",
       "ADMINISTRATIVE CODE                       87       87\n",
       "AGRICULTURE & MRKTS LAW-UNCLASSIFIED      37       37\n",
       "ALCOHOLIC BEVERAGE CONTROL LAW            12       12\n",
       "ANTICIPATORY OFFENSES                      2        2\n",
       "ARSON                                    135      135\n",
       "ASSAULT 3 & RELATED OFFENSES           10418    10418\n",
       "BURGLAR'S TOOLS                          102      102\n",
       "BURGLARY                                2419     2419\n",
       "CHILD ABANDONMENT/NON SUPPORT              6        6\n",
       "CRIMINAL MISCHIEF & RELATED OF         10003    10003\n",
       "CRIMINAL TRESPASS                       1363     1363\n",
       "DANGEROUS DRUGS                         6603     6603\n",
       "DANGEROUS WEAPONS                       2308     2308\n",
       "DISORDERLY CONDUCT                        14       14\n",
       "DISRUPTION OF A RELIGIOUS SERV             2        2\n",
       "ENDAN WELFARE INCOMP                       7        7\n",
       "ESCAPE 3                                   3        3\n",
       "FELONY ASSAULT                          3768     3768\n",
       "FORGERY                                 1557     1557\n",
       "FRAUDS                                   884      884\n",
       "FRAUDULENT ACCOSTING                     170      170\n",
       "GAMBLING                                 101      101\n",
       "GRAND LARCENY                          16477    16477\n",
       "GRAND LARCENY OF MOTOR VEHICLE           732      732\n",
       "HARRASSMENT 2                          13245    13245\n",
       "INTOXICATED & IMPAIRED DRIVING           893      893\n",
       "INTOXICATED/IMPAIRED DRIVING               1        1\n",
       "JOSTLING                                  33       33\n",
       "KIDNAPPING & RELATED OFFENSES             25       25\n",
       "LOITERING                                  1        1\n",
       "LOITERING/GAMBLING (CARDS, DIC             3        3\n",
       "MISCELLANEOUS PENAL LAW                 2019     2019\n",
       "MURDER & NON-NEGL. MANSLAUGHTER           41       41\n",
       "NEW YORK CITY HEALTH CODE                  1        1\n",
       "NYS LAWS-UNCLASSIFIED FELONY             329      329\n",
       "NYS LAWS-UNCLASSIFIED VIOLATION            2        2\n",
       "OFF. AGNST PUB ORD SENSBLTY &           4722     4722\n",
       "OFFENSES AGAINST PUBLIC ADMINI          2422     2422\n",
       "OFFENSES AGAINST PUBLIC SAFETY            16       16\n",
       "OFFENSES AGAINST THE PERSON              300      300\n",
       "OFFENSES INVOLVING FRAUD                 554      554\n",
       "OFFENSES RELATED TO CHILDREN              11       11\n",
       "OTHER OFFENSES RELATED TO THEF           419      419\n",
       "OTHER STATE LAWS                           4        4\n",
       "OTHER STATE LAWS (NON PENAL LA            96       96\n",
       "OTHER STATE LAWS (NON PENAL LAW)           2        2\n",
       "PETIT LARCENY                          24620    24620\n",
       "PETIT LARCENY OF MOTOR VEHICLE             7        7\n",
       "POSSESSION OF STOLEN PROPERTY            486      486\n",
       "PROSTITUTION & RELATED OFFENSES           10       10\n",
       "RAPE                                     291      291\n",
       "ROBBERY                                 2918     2918\n",
       "SEX CRIMES                              1854     1854\n",
       "THEFT OF SERVICES                        228      228\n",
       "THEFT-FRAUD                             1493     1493\n",
       "UNAUTHORIZED USE OF A VEHICLE            171      171\n",
       "VEHICLE AND TRAFFIC LAWS                1079     1079"
      ]
     },
     "execution_count": 9,
     "metadata": {},
     "output_type": "execute_result"
    }
   ],
   "source": [
    "crimes = sel.groupby(['OFNS_DESC']).count()\n",
    "crimes"
   ]
  },
  {
   "cell_type": "code",
   "execution_count": 5,
   "metadata": {},
   "outputs": [
    {
     "data": {
      "text/html": [
       "<div>\n",
       "<style scoped>\n",
       "    .dataframe tbody tr th:only-of-type {\n",
       "        vertical-align: middle;\n",
       "    }\n",
       "\n",
       "    .dataframe tbody tr th {\n",
       "        vertical-align: top;\n",
       "    }\n",
       "\n",
       "    .dataframe thead th {\n",
       "        text-align: right;\n",
       "    }\n",
       "</style>\n",
       "<table border=\"1\" class=\"dataframe\">\n",
       "  <thead>\n",
       "    <tr style=\"text-align: right;\">\n",
       "      <th></th>\n",
       "      <th>RPT_DT</th>\n",
       "      <th>BORO_NM</th>\n",
       "    </tr>\n",
       "    <tr>\n",
       "      <th>OFNS_DESC</th>\n",
       "      <th></th>\n",
       "      <th></th>\n",
       "    </tr>\n",
       "  </thead>\n",
       "  <tbody>\n",
       "    <tr>\n",
       "      <th>PETIT LARCENY</th>\n",
       "      <td>24620</td>\n",
       "      <td>24620</td>\n",
       "    </tr>\n",
       "    <tr>\n",
       "      <th>GRAND LARCENY</th>\n",
       "      <td>16477</td>\n",
       "      <td>16477</td>\n",
       "    </tr>\n",
       "    <tr>\n",
       "      <th>HARRASSMENT 2</th>\n",
       "      <td>13245</td>\n",
       "      <td>13245</td>\n",
       "    </tr>\n",
       "    <tr>\n",
       "      <th>ASSAULT 3 &amp; RELATED OFFENSES</th>\n",
       "      <td>10418</td>\n",
       "      <td>10418</td>\n",
       "    </tr>\n",
       "    <tr>\n",
       "      <th>CRIMINAL MISCHIEF &amp; RELATED OF</th>\n",
       "      <td>10003</td>\n",
       "      <td>10003</td>\n",
       "    </tr>\n",
       "  </tbody>\n",
       "</table>\n",
       "</div>"
      ],
      "text/plain": [
       "                                RPT_DT  BORO_NM\n",
       "OFNS_DESC                                      \n",
       "PETIT LARCENY                    24620    24620\n",
       "GRAND LARCENY                    16477    16477\n",
       "HARRASSMENT 2                    13245    13245\n",
       "ASSAULT 3 & RELATED OFFENSES     10418    10418\n",
       "CRIMINAL MISCHIEF & RELATED OF   10003    10003"
      ]
     },
     "execution_count": 5,
     "metadata": {},
     "output_type": "execute_result"
    }
   ],
   "source": [
    "sortedCrimes = crimes.sort_values(by=['BORO_NM'], ascending=False)\n",
    "sortedCrimes.head()"
   ]
  },
  {
   "cell_type": "code",
   "execution_count": 79,
   "metadata": {},
   "outputs": [],
   "source": [
    "petit = sel[(sel[\"OFNS_DESC\"] == 'PETIT LARCENY')]\n",
    "grand = sel[(sel[\"OFNS_DESC\"] == 'GRAND LARCENY')]"
   ]
  },
  {
   "cell_type": "code",
   "execution_count": 87,
   "metadata": {},
   "outputs": [],
   "source": [
    "harass = sel[(sel[\"OFNS_DESC\"] == 'HARRASSMENT 2')]"
   ]
  },
  {
   "cell_type": "code",
   "execution_count": 88,
   "metadata": {},
   "outputs": [],
   "source": [
    "assault = sel[(sel[\"OFNS_DESC\"] == 'ASSAULT 3 & RELATED OFFENSES')]"
   ]
  },
  {
   "cell_type": "code",
   "execution_count": 89,
   "metadata": {},
   "outputs": [],
   "source": [
    "criminal = sel[(sel[\"OFNS_DESC\"] == 'CRIMINAL MISCHIEF & RELATED OF')]"
   ]
  },
  {
   "cell_type": "code",
   "execution_count": 55,
   "metadata": {},
   "outputs": [
    {
     "name": "stderr",
     "output_type": "stream",
     "text": [
      "C:\\Users\\Porter\\Anaconda2\\lib\\site-packages\\ipykernel_launcher.py:1: SettingWithCopyWarning: \n",
      "A value is trying to be set on a copy of a slice from a DataFrame.\n",
      "Try using .loc[row_indexer,col_indexer] = value instead\n",
      "\n",
      "See the caveats in the documentation: http://pandas.pydata.org/pandas-docs/stable/indexing.html#indexing-view-versus-copy\n",
      "  \"\"\"Entry point for launching an IPython kernel.\n"
     ]
    }
   ],
   "source": [
    "petit['RPT_DT'] = pandas.to_datetime(petit['RPT_DT'])"
   ]
  },
  {
   "cell_type": "code",
   "execution_count": 81,
   "metadata": {},
   "outputs": [
    {
     "name": "stderr",
     "output_type": "stream",
     "text": [
      "C:\\Users\\Porter\\Anaconda2\\lib\\site-packages\\ipykernel_launcher.py:1: SettingWithCopyWarning: \n",
      "A value is trying to be set on a copy of a slice from a DataFrame.\n",
      "Try using .loc[row_indexer,col_indexer] = value instead\n",
      "\n",
      "See the caveats in the documentation: http://pandas.pydata.org/pandas-docs/stable/indexing.html#indexing-view-versus-copy\n",
      "  \"\"\"Entry point for launching an IPython kernel.\n"
     ]
    }
   ],
   "source": [
    "grand['RPT_DT'] = pandas.to_datetime(grand['RPT_DT'])"
   ]
  },
  {
   "cell_type": "code",
   "execution_count": 90,
   "metadata": {},
   "outputs": [
    {
     "name": "stderr",
     "output_type": "stream",
     "text": [
      "C:\\Users\\Porter\\Anaconda2\\lib\\site-packages\\ipykernel_launcher.py:1: SettingWithCopyWarning: \n",
      "A value is trying to be set on a copy of a slice from a DataFrame.\n",
      "Try using .loc[row_indexer,col_indexer] = value instead\n",
      "\n",
      "See the caveats in the documentation: http://pandas.pydata.org/pandas-docs/stable/indexing.html#indexing-view-versus-copy\n",
      "  \"\"\"Entry point for launching an IPython kernel.\n"
     ]
    }
   ],
   "source": [
    "assault['RPT_DT'] = pandas.to_datetime(assault['RPT_DT'])"
   ]
  },
  {
   "cell_type": "code",
   "execution_count": 91,
   "metadata": {},
   "outputs": [
    {
     "name": "stderr",
     "output_type": "stream",
     "text": [
      "C:\\Users\\Porter\\Anaconda2\\lib\\site-packages\\ipykernel_launcher.py:1: SettingWithCopyWarning: \n",
      "A value is trying to be set on a copy of a slice from a DataFrame.\n",
      "Try using .loc[row_indexer,col_indexer] = value instead\n",
      "\n",
      "See the caveats in the documentation: http://pandas.pydata.org/pandas-docs/stable/indexing.html#indexing-view-versus-copy\n",
      "  \"\"\"Entry point for launching an IPython kernel.\n"
     ]
    }
   ],
   "source": [
    "harass['RPT_DT'] = pandas.to_datetime(harass['RPT_DT'])"
   ]
  },
  {
   "cell_type": "code",
   "execution_count": 92,
   "metadata": {},
   "outputs": [
    {
     "name": "stderr",
     "output_type": "stream",
     "text": [
      "C:\\Users\\Porter\\Anaconda2\\lib\\site-packages\\ipykernel_launcher.py:1: SettingWithCopyWarning: \n",
      "A value is trying to be set on a copy of a slice from a DataFrame.\n",
      "Try using .loc[row_indexer,col_indexer] = value instead\n",
      "\n",
      "See the caveats in the documentation: http://pandas.pydata.org/pandas-docs/stable/indexing.html#indexing-view-versus-copy\n",
      "  \"\"\"Entry point for launching an IPython kernel.\n"
     ]
    }
   ],
   "source": [
    "criminal['RPT_DT'] = pandas.to_datetime(criminal['RPT_DT'])"
   ]
  },
  {
   "cell_type": "code",
   "execution_count": 56,
   "metadata": {},
   "outputs": [
    {
     "data": {
      "text/html": [
       "<div>\n",
       "<style scoped>\n",
       "    .dataframe tbody tr th:only-of-type {\n",
       "        vertical-align: middle;\n",
       "    }\n",
       "\n",
       "    .dataframe tbody tr th {\n",
       "        vertical-align: top;\n",
       "    }\n",
       "\n",
       "    .dataframe thead th {\n",
       "        text-align: right;\n",
       "    }\n",
       "</style>\n",
       "<table border=\"1\" class=\"dataframe\">\n",
       "  <thead>\n",
       "    <tr style=\"text-align: right;\">\n",
       "      <th></th>\n",
       "      <th>RPT_DT</th>\n",
       "      <th>OFNS_DESC</th>\n",
       "      <th>BORO_NM</th>\n",
       "    </tr>\n",
       "  </thead>\n",
       "  <tbody>\n",
       "    <tr>\n",
       "      <th>5101380</th>\n",
       "      <td>2016-12-31</td>\n",
       "      <td>PETIT LARCENY</td>\n",
       "      <td>MANHATTAN</td>\n",
       "    </tr>\n",
       "    <tr>\n",
       "      <th>5101391</th>\n",
       "      <td>2016-12-31</td>\n",
       "      <td>PETIT LARCENY</td>\n",
       "      <td>MANHATTAN</td>\n",
       "    </tr>\n",
       "    <tr>\n",
       "      <th>5101458</th>\n",
       "      <td>2016-12-31</td>\n",
       "      <td>PETIT LARCENY</td>\n",
       "      <td>MANHATTAN</td>\n",
       "    </tr>\n",
       "    <tr>\n",
       "      <th>5101476</th>\n",
       "      <td>2016-12-31</td>\n",
       "      <td>PETIT LARCENY</td>\n",
       "      <td>MANHATTAN</td>\n",
       "    </tr>\n",
       "    <tr>\n",
       "      <th>5101495</th>\n",
       "      <td>2016-12-31</td>\n",
       "      <td>PETIT LARCENY</td>\n",
       "      <td>MANHATTAN</td>\n",
       "    </tr>\n",
       "  </tbody>\n",
       "</table>\n",
       "</div>"
      ],
      "text/plain": [
       "            RPT_DT      OFNS_DESC    BORO_NM\n",
       "5101380 2016-12-31  PETIT LARCENY  MANHATTAN\n",
       "5101391 2016-12-31  PETIT LARCENY  MANHATTAN\n",
       "5101458 2016-12-31  PETIT LARCENY  MANHATTAN\n",
       "5101476 2016-12-31  PETIT LARCENY  MANHATTAN\n",
       "5101495 2016-12-31  PETIT LARCENY  MANHATTAN"
      ]
     },
     "execution_count": 56,
     "metadata": {},
     "output_type": "execute_result"
    }
   ],
   "source": [
    "petit.head()"
   ]
  },
  {
   "cell_type": "code",
   "execution_count": 82,
   "metadata": {},
   "outputs": [
    {
     "data": {
      "text/html": [
       "<div>\n",
       "<style scoped>\n",
       "    .dataframe tbody tr th:only-of-type {\n",
       "        vertical-align: middle;\n",
       "    }\n",
       "\n",
       "    .dataframe tbody tr th {\n",
       "        vertical-align: top;\n",
       "    }\n",
       "\n",
       "    .dataframe thead th {\n",
       "        text-align: right;\n",
       "    }\n",
       "</style>\n",
       "<table border=\"1\" class=\"dataframe\">\n",
       "  <thead>\n",
       "    <tr style=\"text-align: right;\">\n",
       "      <th></th>\n",
       "      <th>RPT_DT</th>\n",
       "      <th>OFNS_DESC</th>\n",
       "      <th>BORO_NM</th>\n",
       "    </tr>\n",
       "  </thead>\n",
       "  <tbody>\n",
       "    <tr>\n",
       "      <th>5101244</th>\n",
       "      <td>2016-12-31</td>\n",
       "      <td>GRAND LARCENY</td>\n",
       "      <td>MANHATTAN</td>\n",
       "    </tr>\n",
       "    <tr>\n",
       "      <th>5101245</th>\n",
       "      <td>2016-12-31</td>\n",
       "      <td>GRAND LARCENY</td>\n",
       "      <td>MANHATTAN</td>\n",
       "    </tr>\n",
       "    <tr>\n",
       "      <th>5101246</th>\n",
       "      <td>2016-12-31</td>\n",
       "      <td>GRAND LARCENY</td>\n",
       "      <td>MANHATTAN</td>\n",
       "    </tr>\n",
       "    <tr>\n",
       "      <th>5101255</th>\n",
       "      <td>2016-12-31</td>\n",
       "      <td>GRAND LARCENY</td>\n",
       "      <td>MANHATTAN</td>\n",
       "    </tr>\n",
       "    <tr>\n",
       "      <th>5101257</th>\n",
       "      <td>2016-12-31</td>\n",
       "      <td>GRAND LARCENY</td>\n",
       "      <td>MANHATTAN</td>\n",
       "    </tr>\n",
       "  </tbody>\n",
       "</table>\n",
       "</div>"
      ],
      "text/plain": [
       "            RPT_DT      OFNS_DESC    BORO_NM\n",
       "5101244 2016-12-31  GRAND LARCENY  MANHATTAN\n",
       "5101245 2016-12-31  GRAND LARCENY  MANHATTAN\n",
       "5101246 2016-12-31  GRAND LARCENY  MANHATTAN\n",
       "5101255 2016-12-31  GRAND LARCENY  MANHATTAN\n",
       "5101257 2016-12-31  GRAND LARCENY  MANHATTAN"
      ]
     },
     "execution_count": 82,
     "metadata": {},
     "output_type": "execute_result"
    }
   ],
   "source": [
    "grand.head()"
   ]
  },
  {
   "cell_type": "code",
   "execution_count": 57,
   "metadata": {},
   "outputs": [
    {
     "data": {
      "text/plain": [
       "RPT_DT       datetime64[ns]\n",
       "OFNS_DESC            object\n",
       "BORO_NM              object\n",
       "dtype: object"
      ]
     },
     "execution_count": 57,
     "metadata": {},
     "output_type": "execute_result"
    }
   ],
   "source": [
    "petit.dtypes"
   ]
  },
  {
   "cell_type": "code",
   "execution_count": 77,
   "metadata": {},
   "outputs": [],
   "source": [
    "months = petit['RPT_DT'].dt.month"
   ]
  },
  {
   "cell_type": "code",
   "execution_count": 93,
   "metadata": {},
   "outputs": [],
   "source": [
    "monthsg = grand['RPT_DT'].dt.month"
   ]
  },
  {
   "cell_type": "code",
   "execution_count": 96,
   "metadata": {},
   "outputs": [],
   "source": [
    "monthsh = harass['RPT_DT'].dt.month"
   ]
  },
  {
   "cell_type": "code",
   "execution_count": 97,
   "metadata": {},
   "outputs": [],
   "source": [
    "monthsa = assault['RPT_DT'].dt.month"
   ]
  },
  {
   "cell_type": "code",
   "execution_count": 98,
   "metadata": {},
   "outputs": [],
   "source": [
    "monthsc = criminal['RPT_DT'].dt.month"
   ]
  },
  {
   "cell_type": "code",
   "execution_count": 78,
   "metadata": {},
   "outputs": [
    {
     "data": {
      "text/plain": [
       "Counter({1L: 1976,\n",
       "         2L: 1774,\n",
       "         3L: 1970,\n",
       "         4L: 1993,\n",
       "         5L: 2103,\n",
       "         6L: 2142,\n",
       "         7L: 2178,\n",
       "         8L: 2305,\n",
       "         9L: 2105,\n",
       "         10L: 2046,\n",
       "         11L: 1918,\n",
       "         12L: 2110})"
      ]
     },
     "execution_count": 78,
     "metadata": {},
     "output_type": "execute_result"
    }
   ],
   "source": [
    "from collections import Counter\n",
    "Counter(months)"
   ]
  },
  {
   "cell_type": "code",
   "execution_count": 84,
   "metadata": {},
   "outputs": [
    {
     "data": {
      "text/plain": [
       "Counter({1L: 1328,\n",
       "         2L: 1131,\n",
       "         3L: 1392,\n",
       "         4L: 1286,\n",
       "         5L: 1365,\n",
       "         6L: 1438,\n",
       "         7L: 1396,\n",
       "         8L: 1465,\n",
       "         9L: 1338,\n",
       "         10L: 1418,\n",
       "         11L: 1384,\n",
       "         12L: 1536})"
      ]
     },
     "execution_count": 84,
     "metadata": {},
     "output_type": "execute_result"
    }
   ],
   "source": [
    "Counter(monthsg)"
   ]
  },
  {
   "cell_type": "code",
   "execution_count": 99,
   "metadata": {},
   "outputs": [
    {
     "data": {
      "text/plain": [
       "Counter({1L: 1029,\n",
       "         2L: 920,\n",
       "         3L: 1131,\n",
       "         4L: 1109,\n",
       "         5L: 1224,\n",
       "         6L: 1178,\n",
       "         7L: 1079,\n",
       "         8L: 1235,\n",
       "         9L: 1116,\n",
       "         10L: 1142,\n",
       "         11L: 1064,\n",
       "         12L: 1018})"
      ]
     },
     "execution_count": 99,
     "metadata": {},
     "output_type": "execute_result"
    }
   ],
   "source": [
    "Counter(monthsh)"
   ]
  },
  {
   "cell_type": "code",
   "execution_count": 100,
   "metadata": {},
   "outputs": [
    {
     "data": {
      "text/plain": [
       "Counter({1L: 761,\n",
       "         2L: 724,\n",
       "         3L: 875,\n",
       "         4L: 885,\n",
       "         5L: 972,\n",
       "         6L: 918,\n",
       "         7L: 959,\n",
       "         8L: 925,\n",
       "         9L: 886,\n",
       "         10L: 910,\n",
       "         11L: 832,\n",
       "         12L: 771})"
      ]
     },
     "execution_count": 100,
     "metadata": {},
     "output_type": "execute_result"
    }
   ],
   "source": [
    "Counter(monthsa)"
   ]
  },
  {
   "cell_type": "code",
   "execution_count": 101,
   "metadata": {},
   "outputs": [
    {
     "data": {
      "text/plain": [
       "Counter({1L: 828,\n",
       "         2L: 745,\n",
       "         3L: 833,\n",
       "         4L: 1101,\n",
       "         5L: 792,\n",
       "         6L: 981,\n",
       "         7L: 812,\n",
       "         8L: 1049,\n",
       "         9L: 686,\n",
       "         10L: 893,\n",
       "         11L: 634,\n",
       "         12L: 649})"
      ]
     },
     "execution_count": 101,
     "metadata": {},
     "output_type": "execute_result"
    }
   ],
   "source": [
    "Counter(monthsc)"
   ]
  },
  {
   "cell_type": "code",
   "execution_count": null,
   "metadata": {},
   "outputs": [],
   "source": []
  }
 ],
 "metadata": {
  "kernelspec": {
   "display_name": "Python 2",
   "language": "python",
   "name": "python2"
  },
  "language_info": {
   "codemirror_mode": {
    "name": "ipython",
    "version": 2
   },
   "file_extension": ".py",
   "mimetype": "text/x-python",
   "name": "python",
   "nbconvert_exporter": "python",
   "pygments_lexer": "ipython2",
   "version": "2.7.14"
  }
 },
 "nbformat": 4,
 "nbformat_minor": 2
}
